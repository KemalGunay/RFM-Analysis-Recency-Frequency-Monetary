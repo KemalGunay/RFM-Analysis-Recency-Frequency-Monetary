{
 "cells": [
  {
   "cell_type": "markdown",
   "id": "a7d8abc5",
   "metadata": {
    "_cell_guid": "b1076dfc-b9ad-4769-8c92-a6c4dae69d19",
    "_uuid": "8f2839f25d086af736a60e9eeb907d3b93b6e0e5",
    "papermill": {
     "duration": 0.034322,
     "end_time": "2021-09-17T14:28:49.839457",
     "exception": false,
     "start_time": "2021-09-17T14:28:49.805135",
     "status": "completed"
    },
    "tags": []
   },
   "source": [
    "# Introduction\n",
    "How often do you use the RFM analysis in your marketing? The RFM analysis is a great tool for marketers to figure out which customers are most valuable and how they should be marketed to. It's also a great way to find new prospects that might not have been found otherwise. Here we'll explain into each of the four groups: Retention, Frequency, Monetary Value and Referral and explain what they mean and why you want them as customers!\n",
    "\n",
    "<font color = 'blue'>\n",
    "Content: \n",
    "\n",
    "1. [Customer Segmentation With RFM](#1)\n",
    "1. [Business Problem](#2)\n",
    "    * [Dataset Story](#3)\n",
    "    * [Variables](#4)\n",
    "1. [Libraries](5)\n",
    "1. [Load and Check Data](#6)\n",
    "    * [Data Preprocessing](#7)\n",
    "    * [Outlier Observations](#8)\n",
    "1. [Exploratory Data Analysis](#9)\n",
    "    * [Categorical Variables](#10)\n",
    "    * [Numerical Variables](#11)\n",
    "1. [Customer Segmentation With RFM](#12)\n",
    "    * [Preparation of RFM Metrics](#13)\n",
    "    * [Generating RFM Scores](#14)\n",
    "    * [Segmenting Customers Based on RFM Scores](#15)\n",
    "    * [Visualization of RFM Segments](#16)\n",
    "1. [References](#17)\n",
    "\n"
   ]
  },
  {
   "cell_type": "markdown",
   "id": "f8768cd2",
   "metadata": {
    "papermill": {
     "duration": 0.029702,
     "end_time": "2021-09-17T14:28:49.901201",
     "exception": false,
     "start_time": "2021-09-17T14:28:49.871499",
     "status": "completed"
    },
    "tags": []
   },
   "source": [
    "<a id = \"1\"></a><br>\n",
    "# Customer Segmentation With RFM\n",
    "## WHAT IS RFM?\n",
    "\n",
    "The RFM method is a tool for assessing consumer value. It's frequently utilized in database marketing and direct marketing, as well as retail and professional services.\n",
    "\n",
    "RFM stands for the three dimensions:\n",
    "\n",
    "* **Recency:** How recently did the customer purchase?\n",
    "* **Frequency:** How often do they purchase?\n",
    "* **Monetary Value:** How much do they spend?"
   ]
  },
  {
   "cell_type": "markdown",
   "id": "0027f1a3",
   "metadata": {
    "papermill": {
     "duration": 0.030372,
     "end_time": "2021-09-17T14:28:49.962817",
     "exception": false,
     "start_time": "2021-09-17T14:28:49.932445",
     "status": "completed"
    },
    "tags": []
   },
   "source": [
    "<a id = \"2\"></a><br>\n",
    "# Problem\n",
    "An e-commerce company wants to segment its customers and determine marketing strategies according to these segments. For example, it is desired to organize different campaigns for new customers and different campaigns in order to retain customers that are very profitable for the company."
   ]
  },
  {
   "cell_type": "markdown",
   "id": "cbd33f80",
   "metadata": {
    "papermill": {
     "duration": 0.029248,
     "end_time": "2021-09-17T14:28:50.022378",
     "exception": false,
     "start_time": "2021-09-17T14:28:49.993130",
     "status": "completed"
    },
    "tags": []
   },
   "source": [
    "<a id = \"3\"></a><br>\n",
    "## Dataset Story\n",
    "* The dataset includes sales between 01/12/2009 - 09/12/2011.\n",
    "* The product catalog of this company includes souvenirs.\n",
    "* The vast majority of the company's customers are corporate customers."
   ]
  },
  {
   "cell_type": "markdown",
   "id": "c8061ea4",
   "metadata": {
    "papermill": {
     "duration": 0.02954,
     "end_time": "2021-09-17T14:28:50.081588",
     "exception": false,
     "start_time": "2021-09-17T14:28:50.052048",
     "status": "completed"
    },
    "tags": []
   },
   "source": [
    "<a id = \"4\"></a><br>\n",
    "## Variables\n",
    "* **InvoiceNo:** Invoice number. The unique number of each transaction, namely the invoice. Aborted operation if it starts with C.\n",
    "* **StockCode:** Product code. Unique number for each product.\n",
    "* **Description**: Product name\n",
    "* **Quantity**: Number of products. It expresses how many of the products on the invoices have been sold.\n",
    "* **InvoiceDate**: Invoice date and time.\n",
    "* **UnitPrice**: Product price (in GBP)\n",
    "* **CustomerID:** Unique customer number\n",
    "* **Country:** The country where the customer lives."
   ]
  },
  {
   "cell_type": "markdown",
   "id": "fa3fa887",
   "metadata": {
    "execution": {
     "iopub.execute_input": "2021-09-12T20:26:32.403646Z",
     "iopub.status.busy": "2021-09-12T20:26:32.403228Z",
     "iopub.status.idle": "2021-09-12T20:26:32.419815Z",
     "shell.execute_reply": "2021-09-12T20:26:32.418995Z",
     "shell.execute_reply.started": "2021-09-12T20:26:32.403542Z"
    },
    "papermill": {
     "duration": 0.030898,
     "end_time": "2021-09-17T14:28:50.142623",
     "exception": false,
     "start_time": "2021-09-17T14:28:50.111725",
     "status": "completed"
    },
    "tags": []
   },
   "source": [
    "<a id = \"5\"></a><br>\n",
    "# Libraries"
   ]
  },
  {
   "cell_type": "code",
   "execution_count": 1,
   "id": "02e6842d",
   "metadata": {
    "execution": {
     "iopub.execute_input": "2021-09-17T14:28:50.208587Z",
     "iopub.status.busy": "2021-09-17T14:28:50.206759Z",
     "iopub.status.idle": "2021-09-17T14:29:01.075523Z",
     "shell.execute_reply": "2021-09-17T14:29:01.074768Z"
    },
    "papermill": {
     "duration": 10.903227,
     "end_time": "2021-09-17T14:29:01.075677",
     "exception": false,
     "start_time": "2021-09-17T14:28:50.172450",
     "status": "completed"
    },
    "tags": []
   },
   "outputs": [
    {
     "name": "stdout",
     "output_type": "stream",
     "text": [
      "Collecting openpyxl\r\n",
      "  Downloading openpyxl-3.0.8-py2.py3-none-any.whl (244 kB)\r\n",
      "\u001b[K     |████████████████████████████████| 244 kB 812 kB/s \r\n",
      "\u001b[?25hCollecting et-xmlfile\r\n",
      "  Downloading et_xmlfile-1.1.0-py3-none-any.whl (4.7 kB)\r\n",
      "Installing collected packages: et-xmlfile, openpyxl\r\n",
      "Successfully installed et-xmlfile-1.1.0 openpyxl-3.0.8\r\n",
      "\u001b[33mWARNING: Running pip as the 'root' user can result in broken permissions and conflicting behaviour with the system package manager. It is recommended to use a virtual environment instead: https://pip.pypa.io/warnings/venv\u001b[0m\r\n",
      "/kaggle/input/online-retail-ii-data-set-from-ml-repository/Year 2010-2011.csv\n",
      "/kaggle/input/online-retail-ii-data-set-from-ml-repository/Year 2009-2010.csv\n",
      "/kaggle/input/online-retail-ii-data-set-from-ml-repository/online_retail_II.xlsx\n"
     ]
    }
   ],
   "source": [
    "\n",
    "# installlation required\n",
    "!pip install openpyxl # for excel file\n",
    "\n",
    "# libraries\n",
    "import datetime as dt\n",
    "import numpy as np\n",
    "import pandas as pd\n",
    "import matplotlib.pyplot as plt\n",
    "import seaborn as sns\n",
    "import squarify  # treemap visualization\n",
    "import warnings \n",
    "warnings.filterwarnings(\"ignore\")\n",
    "\n",
    "\n",
    "import os\n",
    "for dirname, _, filenames in os.walk('/kaggle/input'):\n",
    "    for filename in filenames:\n",
    "        print(os.path.join(dirname, filename))"
   ]
  },
  {
   "cell_type": "markdown",
   "id": "b10065c3",
   "metadata": {
    "papermill": {
     "duration": 0.033341,
     "end_time": "2021-09-17T14:29:01.143700",
     "exception": false,
     "start_time": "2021-09-17T14:29:01.110359",
     "status": "completed"
    },
    "tags": []
   },
   "source": [
    "<a id = \"6\"></a><br>\n",
    "# Load and Check Data"
   ]
  },
  {
   "cell_type": "code",
   "execution_count": 2,
   "id": "554ae04b",
   "metadata": {
    "execution": {
     "iopub.execute_input": "2021-09-17T14:29:01.217673Z",
     "iopub.status.busy": "2021-09-17T14:29:01.216957Z",
     "iopub.status.idle": "2021-09-17T14:30:27.145706Z",
     "shell.execute_reply": "2021-09-17T14:30:27.146217Z"
    },
    "papermill": {
     "duration": 85.968911,
     "end_time": "2021-09-17T14:30:27.146404",
     "exception": false,
     "start_time": "2021-09-17T14:29:01.177493",
     "status": "completed"
    },
    "tags": []
   },
   "outputs": [
    {
     "data": {
      "text/html": [
       "<div>\n",
       "<style scoped>\n",
       "    .dataframe tbody tr th:only-of-type {\n",
       "        vertical-align: middle;\n",
       "    }\n",
       "\n",
       "    .dataframe tbody tr th {\n",
       "        vertical-align: top;\n",
       "    }\n",
       "\n",
       "    .dataframe thead th {\n",
       "        text-align: right;\n",
       "    }\n",
       "</style>\n",
       "<table border=\"1\" class=\"dataframe\">\n",
       "  <thead>\n",
       "    <tr style=\"text-align: right;\">\n",
       "      <th></th>\n",
       "      <th>Invoice</th>\n",
       "      <th>StockCode</th>\n",
       "      <th>Description</th>\n",
       "      <th>Quantity</th>\n",
       "      <th>InvoiceDate</th>\n",
       "      <th>Price</th>\n",
       "      <th>Customer ID</th>\n",
       "      <th>Country</th>\n",
       "    </tr>\n",
       "  </thead>\n",
       "  <tbody>\n",
       "    <tr>\n",
       "      <th>0</th>\n",
       "      <td>536365</td>\n",
       "      <td>85123A</td>\n",
       "      <td>WHITE HANGING HEART T-LIGHT HOLDER</td>\n",
       "      <td>6</td>\n",
       "      <td>2010-12-01 08:26:00</td>\n",
       "      <td>2.55</td>\n",
       "      <td>17850.0</td>\n",
       "      <td>United Kingdom</td>\n",
       "    </tr>\n",
       "    <tr>\n",
       "      <th>1</th>\n",
       "      <td>536365</td>\n",
       "      <td>71053</td>\n",
       "      <td>WHITE METAL LANTERN</td>\n",
       "      <td>6</td>\n",
       "      <td>2010-12-01 08:26:00</td>\n",
       "      <td>3.39</td>\n",
       "      <td>17850.0</td>\n",
       "      <td>United Kingdom</td>\n",
       "    </tr>\n",
       "    <tr>\n",
       "      <th>2</th>\n",
       "      <td>536365</td>\n",
       "      <td>84406B</td>\n",
       "      <td>CREAM CUPID HEARTS COAT HANGER</td>\n",
       "      <td>8</td>\n",
       "      <td>2010-12-01 08:26:00</td>\n",
       "      <td>2.75</td>\n",
       "      <td>17850.0</td>\n",
       "      <td>United Kingdom</td>\n",
       "    </tr>\n",
       "    <tr>\n",
       "      <th>3</th>\n",
       "      <td>536365</td>\n",
       "      <td>84029G</td>\n",
       "      <td>KNITTED UNION FLAG HOT WATER BOTTLE</td>\n",
       "      <td>6</td>\n",
       "      <td>2010-12-01 08:26:00</td>\n",
       "      <td>3.39</td>\n",
       "      <td>17850.0</td>\n",
       "      <td>United Kingdom</td>\n",
       "    </tr>\n",
       "    <tr>\n",
       "      <th>4</th>\n",
       "      <td>536365</td>\n",
       "      <td>84029E</td>\n",
       "      <td>RED WOOLLY HOTTIE WHITE HEART.</td>\n",
       "      <td>6</td>\n",
       "      <td>2010-12-01 08:26:00</td>\n",
       "      <td>3.39</td>\n",
       "      <td>17850.0</td>\n",
       "      <td>United Kingdom</td>\n",
       "    </tr>\n",
       "  </tbody>\n",
       "</table>\n",
       "</div>"
      ],
      "text/plain": [
       "  Invoice StockCode                          Description  Quantity  \\\n",
       "0  536365    85123A   WHITE HANGING HEART T-LIGHT HOLDER         6   \n",
       "1  536365     71053                  WHITE METAL LANTERN         6   \n",
       "2  536365    84406B       CREAM CUPID HEARTS COAT HANGER         8   \n",
       "3  536365    84029G  KNITTED UNION FLAG HOT WATER BOTTLE         6   \n",
       "4  536365    84029E       RED WOOLLY HOTTIE WHITE HEART.         6   \n",
       "\n",
       "          InvoiceDate  Price  Customer ID         Country  \n",
       "0 2010-12-01 08:26:00   2.55      17850.0  United Kingdom  \n",
       "1 2010-12-01 08:26:00   3.39      17850.0  United Kingdom  \n",
       "2 2010-12-01 08:26:00   2.75      17850.0  United Kingdom  \n",
       "3 2010-12-01 08:26:00   3.39      17850.0  United Kingdom  \n",
       "4 2010-12-01 08:26:00   3.39      17850.0  United Kingdom  "
      ]
     },
     "execution_count": 2,
     "metadata": {},
     "output_type": "execute_result"
    }
   ],
   "source": [
    "df_2010_2011 = pd.read_excel(\"../input/online-retail-ii-data-set-from-ml-repository/online_retail_II.xlsx\", sheet_name = \"Year 2010-2011\")\n",
    "\n",
    "#online_retail = pd.read_csv(\"/kaggle/input/online-retail-ii-data-set-from-ml-repository/Year 2010-2011.csv\", sep=\";\")\n",
    "df = df_2010_2011.copy()\n",
    "df.head()"
   ]
  },
  {
   "cell_type": "markdown",
   "id": "b0a156a2",
   "metadata": {
    "papermill": {
     "duration": 0.034048,
     "end_time": "2021-09-17T14:30:27.214569",
     "exception": false,
     "start_time": "2021-09-17T14:30:27.180521",
     "status": "completed"
    },
    "tags": []
   },
   "source": [
    "Let's look at the data first."
   ]
  },
  {
   "cell_type": "markdown",
   "id": "1798edaf",
   "metadata": {
    "papermill": {
     "duration": 0.033954,
     "end_time": "2021-09-17T14:30:27.282824",
     "exception": false,
     "start_time": "2021-09-17T14:30:27.248870",
     "status": "completed"
    },
    "tags": []
   },
   "source": [
    "<a id = \"7\"></a><br>\n",
    "## Data Pre-processing"
   ]
  },
  {
   "cell_type": "code",
   "execution_count": 3,
   "id": "ceb04910",
   "metadata": {
    "execution": {
     "iopub.execute_input": "2021-09-17T14:30:27.383172Z",
     "iopub.status.busy": "2021-09-17T14:30:27.382521Z",
     "iopub.status.idle": "2021-09-17T14:30:27.445675Z",
     "shell.execute_reply": "2021-09-17T14:30:27.446158Z"
    },
    "papermill": {
     "duration": 0.129233,
     "end_time": "2021-09-17T14:30:27.446345",
     "exception": false,
     "start_time": "2021-09-17T14:30:27.317112",
     "status": "completed"
    },
    "tags": []
   },
   "outputs": [
    {
     "name": "stdout",
     "output_type": "stream",
     "text": [
      "################ Shape ####################\n",
      "(541910, 8)\n",
      "############### Columns ###################\n",
      "Index(['Invoice', 'StockCode', 'Description', 'Quantity', 'InvoiceDate',\n",
      "       'Price', 'Customer ID', 'Country'],\n",
      "      dtype='object')\n",
      "############### Types #####################\n",
      "Invoice                object\n",
      "StockCode              object\n",
      "Description            object\n",
      "Quantity                int64\n",
      "InvoiceDate    datetime64[ns]\n",
      "Price                 float64\n",
      "Customer ID           float64\n",
      "Country                object\n",
      "dtype: object\n",
      "############### Head ######################\n",
      "  Invoice StockCode                          Description  Quantity  \\\n",
      "0  536365    85123A   WHITE HANGING HEART T-LIGHT HOLDER         6   \n",
      "1  536365     71053                  WHITE METAL LANTERN         6   \n",
      "2  536365    84406B       CREAM CUPID HEARTS COAT HANGER         8   \n",
      "3  536365    84029G  KNITTED UNION FLAG HOT WATER BOTTLE         6   \n",
      "4  536365    84029E       RED WOOLLY HOTTIE WHITE HEART.         6   \n",
      "\n",
      "          InvoiceDate  Price  Customer ID         Country  \n",
      "0 2010-12-01 08:26:00   2.55      17850.0  United Kingdom  \n",
      "1 2010-12-01 08:26:00   3.39      17850.0  United Kingdom  \n",
      "2 2010-12-01 08:26:00   2.75      17850.0  United Kingdom  \n",
      "3 2010-12-01 08:26:00   3.39      17850.0  United Kingdom  \n",
      "4 2010-12-01 08:26:00   3.39      17850.0  United Kingdom  \n",
      "############### Tail ######################\n",
      "       Invoice StockCode                      Description  Quantity  \\\n",
      "541905  581587     22899     CHILDREN'S APRON DOLLY GIRL          6   \n",
      "541906  581587     23254    CHILDRENS CUTLERY DOLLY GIRL          4   \n",
      "541907  581587     23255  CHILDRENS CUTLERY CIRCUS PARADE         4   \n",
      "541908  581587     22138    BAKING SET 9 PIECE RETROSPOT          3   \n",
      "541909  581587      POST                          POSTAGE         1   \n",
      "\n",
      "               InvoiceDate  Price  Customer ID Country  \n",
      "541905 2011-12-09 12:50:00   2.10      12680.0  France  \n",
      "541906 2011-12-09 12:50:00   4.15      12680.0  France  \n",
      "541907 2011-12-09 12:50:00   4.15      12680.0  France  \n",
      "541908 2011-12-09 12:50:00   4.95      12680.0  France  \n",
      "541909 2011-12-09 12:50:00  18.00      12680.0  France  \n",
      "############### Describe ###################\n",
      "                count          mean          std       min       25%  \\\n",
      "Quantity     541910.0      9.552234   218.080957 -80995.00      1.00   \n",
      "Price        541910.0      4.611138    96.759765 -11062.06      1.25   \n",
      "Customer ID  406830.0  15287.684160  1713.603074  12346.00  13953.00   \n",
      "\n",
      "                  50%       75%      max  \n",
      "Quantity         3.00     10.00  80995.0  \n",
      "Price            2.08      4.13  38970.0  \n",
      "Customer ID  15152.00  16791.00  18287.0  \n"
     ]
    }
   ],
   "source": [
    "def check_df(dataframe):\n",
    "    print(\"################ Shape ####################\")\n",
    "    print(dataframe.shape)\n",
    "    print(\"############### Columns ###################\")\n",
    "    print(dataframe.columns)\n",
    "    print(\"############### Types #####################\")\n",
    "    print(dataframe.dtypes)\n",
    "    print(\"############### Head ######################\")\n",
    "    print(dataframe.head())\n",
    "    print(\"############### Tail ######################\")\n",
    "    print(dataframe.tail())\n",
    "    print(\"############### Describe ###################\")\n",
    "    print(dataframe.describe().T)\n",
    "\n",
    "check_df(df)"
   ]
  },
  {
   "cell_type": "markdown",
   "id": "a3e6c069",
   "metadata": {
    "papermill": {
     "duration": 0.034651,
     "end_time": "2021-09-17T14:30:27.515731",
     "exception": false,
     "start_time": "2021-09-17T14:30:27.481080",
     "status": "completed"
    },
    "tags": []
   },
   "source": [
    "<a id = \"8\"></a><br>\n",
    "# Outlier Observations"
   ]
  },
  {
   "cell_type": "code",
   "execution_count": 4,
   "id": "7161507c",
   "metadata": {
    "execution": {
     "iopub.execute_input": "2021-09-17T14:30:27.593303Z",
     "iopub.status.busy": "2021-09-17T14:30:27.592654Z",
     "iopub.status.idle": "2021-09-17T14:30:27.633543Z",
     "shell.execute_reply": "2021-09-17T14:30:27.632940Z"
    },
    "papermill": {
     "duration": 0.083334,
     "end_time": "2021-09-17T14:30:27.633690",
     "exception": false,
     "start_time": "2021-09-17T14:30:27.550356",
     "status": "completed"
    },
    "tags": []
   },
   "outputs": [],
   "source": [
    "def outlier_thresholds(dataframe, variable):\n",
    "    quartile1 = dataframe[variable].quantile(0.01)\n",
    "    quartile3 = dataframe[variable].quantile(0.99)\n",
    "    interquantile_range = quartile3 - quartile1\n",
    "    up_limit = quartile3 + 1.5 * interquantile_range\n",
    "    low_limit = quartile1 - 1.5 * interquantile_range\n",
    "    return low_limit, up_limit\n",
    "\n",
    "def replace_with_thresholds(dataframe, variable):\n",
    "    low_limit, up_limit = outlier_thresholds(dataframe, variable)\n",
    "    dataframe.loc[(dataframe[variable] < low_limit), variable] = low_limit\n",
    "    dataframe.loc[(dataframe[variable] > up_limit), variable] = up_limit\n",
    "\n",
    "replace_with_thresholds(df, \"Quantity\")\n",
    "replace_with_thresholds(df, \"Price\")"
   ]
  },
  {
   "cell_type": "code",
   "execution_count": 5,
   "id": "9cddec55",
   "metadata": {
    "execution": {
     "iopub.execute_input": "2021-09-17T14:30:27.708818Z",
     "iopub.status.busy": "2021-09-17T14:30:27.707898Z",
     "iopub.status.idle": "2021-09-17T14:30:27.953036Z",
     "shell.execute_reply": "2021-09-17T14:30:27.953490Z"
    },
    "papermill": {
     "duration": 0.285127,
     "end_time": "2021-09-17T14:30:27.953652",
     "exception": false,
     "start_time": "2021-09-17T14:30:27.668525",
     "status": "completed"
    },
    "tags": []
   },
   "outputs": [
    {
     "data": {
      "text/plain": [
       "Invoice             0\n",
       "StockCode           0\n",
       "Description      1454\n",
       "Quantity            0\n",
       "InvoiceDate         0\n",
       "Price               0\n",
       "Customer ID    135080\n",
       "Country             0\n",
       "dtype: int64"
      ]
     },
     "execution_count": 5,
     "metadata": {},
     "output_type": "execute_result"
    }
   ],
   "source": [
    "# NA values\n",
    "df.isnull().sum()"
   ]
  },
  {
   "cell_type": "markdown",
   "id": "9b0dfff8",
   "metadata": {
    "papermill": {
     "duration": 0.035767,
     "end_time": "2021-09-17T14:30:28.024755",
     "exception": false,
     "start_time": "2021-09-17T14:30:27.988988",
     "status": "completed"
    },
    "tags": []
   },
   "source": [
    "Let's remove null values in the dataframe"
   ]
  },
  {
   "cell_type": "code",
   "execution_count": 6,
   "id": "421a775a",
   "metadata": {
    "execution": {
     "iopub.execute_input": "2021-09-17T14:30:28.100882Z",
     "iopub.status.busy": "2021-09-17T14:30:28.100247Z",
     "iopub.status.idle": "2021-09-17T14:30:28.568887Z",
     "shell.execute_reply": "2021-09-17T14:30:28.568352Z"
    },
    "papermill": {
     "duration": 0.50864,
     "end_time": "2021-09-17T14:30:28.569027",
     "exception": false,
     "start_time": "2021-09-17T14:30:28.060387",
     "status": "completed"
    },
    "tags": []
   },
   "outputs": [
    {
     "data": {
      "text/plain": [
       "Invoice        0\n",
       "StockCode      0\n",
       "Description    0\n",
       "Quantity       0\n",
       "InvoiceDate    0\n",
       "Price          0\n",
       "Customer ID    0\n",
       "Country        0\n",
       "dtype: int64"
      ]
     },
     "execution_count": 6,
     "metadata": {},
     "output_type": "execute_result"
    }
   ],
   "source": [
    "df.dropna(inplace=True)\n",
    "df.isnull().sum()"
   ]
  },
  {
   "cell_type": "markdown",
   "id": "ab519f33",
   "metadata": {
    "papermill": {
     "duration": 0.035506,
     "end_time": "2021-09-17T14:30:28.640369",
     "exception": false,
     "start_time": "2021-09-17T14:30:28.604863",
     "status": "completed"
    },
    "tags": []
   },
   "source": [
    "We exclude canceled and returned orders from the data set."
   ]
  },
  {
   "cell_type": "code",
   "execution_count": 7,
   "id": "ea04dc83",
   "metadata": {
    "execution": {
     "iopub.execute_input": "2021-09-17T14:30:28.762359Z",
     "iopub.status.busy": "2021-09-17T14:30:28.761417Z",
     "iopub.status.idle": "2021-09-17T14:30:29.451447Z",
     "shell.execute_reply": "2021-09-17T14:30:29.450792Z"
    },
    "papermill": {
     "duration": 0.775629,
     "end_time": "2021-09-17T14:30:29.451583",
     "exception": false,
     "start_time": "2021-09-17T14:30:28.675954",
     "status": "completed"
    },
    "tags": []
   },
   "outputs": [
    {
     "data": {
      "text/plain": [
       "(397925, 8)"
      ]
     },
     "execution_count": 7,
     "metadata": {},
     "output_type": "execute_result"
    }
   ],
   "source": [
    "# We exclude canceled and returned orders from the data set.\n",
    "df = df[~df[\"Invoice\"].str.contains(\"C\", na=False)]\n",
    "df.shape"
   ]
  },
  {
   "cell_type": "markdown",
   "id": "1f61dcfc",
   "metadata": {
    "papermill": {
     "duration": 0.036824,
     "end_time": "2021-09-17T14:30:29.524895",
     "exception": false,
     "start_time": "2021-09-17T14:30:29.488071",
     "status": "completed"
    },
    "tags": []
   },
   "source": [
    "<a id = \"9\"></a><br>\n",
    "# Exploratory Data Analysis"
   ]
  },
  {
   "cell_type": "markdown",
   "id": "91f07dca",
   "metadata": {
    "papermill": {
     "duration": 0.036273,
     "end_time": "2021-09-17T14:30:29.597717",
     "exception": false,
     "start_time": "2021-09-17T14:30:29.561444",
     "status": "completed"
    },
    "tags": []
   },
   "source": [
    "<a id = \"10\"></a><br>\n",
    "## Categorical Variable Analysis"
   ]
  },
  {
   "cell_type": "code",
   "execution_count": 8,
   "id": "66ee9f9a",
   "metadata": {
    "execution": {
     "iopub.execute_input": "2021-09-17T14:30:29.698637Z",
     "iopub.status.busy": "2021-09-17T14:30:29.697717Z",
     "iopub.status.idle": "2021-09-17T14:30:29.833289Z",
     "shell.execute_reply": "2021-09-17T14:30:29.833812Z"
    },
    "papermill": {
     "duration": 0.199815,
     "end_time": "2021-09-17T14:30:29.833990",
     "exception": false,
     "start_time": "2021-09-17T14:30:29.634175",
     "status": "completed"
    },
    "tags": []
   },
   "outputs": [
    {
     "data": {
      "text/plain": [
       "['Country']"
      ]
     },
     "execution_count": 8,
     "metadata": {},
     "output_type": "execute_result"
    }
   ],
   "source": [
    "cat_cols = [col for col in df.columns if df[col].dtypes ==\"O\"]\n",
    "cat_but_car = [col for col in df.columns if df[col].nunique() > 100 and df[col].dtypes == \"O\"]\n",
    "cat_cols = [col for col in cat_cols if col not in cat_but_car]\n",
    "cat_cols"
   ]
  },
  {
   "cell_type": "markdown",
   "id": "ff7b2ec0",
   "metadata": {
    "papermill": {
     "duration": 0.036333,
     "end_time": "2021-09-17T14:30:29.907035",
     "exception": false,
     "start_time": "2021-09-17T14:30:29.870702",
     "status": "completed"
    },
    "tags": []
   },
   "source": [
    "The dataset has only \"Country\" variable."
   ]
  },
  {
   "cell_type": "code",
   "execution_count": 9,
   "id": "ba2722f5",
   "metadata": {
    "execution": {
     "iopub.execute_input": "2021-09-17T14:30:30.100203Z",
     "iopub.status.busy": "2021-09-17T14:30:30.033960Z",
     "iopub.status.idle": "2021-09-17T14:30:31.243962Z",
     "shell.execute_reply": "2021-09-17T14:30:31.243161Z"
    },
    "papermill": {
     "duration": 1.300284,
     "end_time": "2021-09-17T14:30:31.244104",
     "exception": false,
     "start_time": "2021-09-17T14:30:29.943820",
     "status": "completed"
    },
    "tags": []
   },
   "outputs": [
    {
     "name": "stdout",
     "output_type": "stream",
     "text": [
      "                      Country      Ratio\n",
      "United Kingdom         354345  89.048187\n",
      "Germany                  9042   2.272287\n",
      "France                   8343   2.096626\n",
      "EIRE                     7238   1.818936\n",
      "Spain                    2485   0.624490\n",
      "Netherlands              2363   0.593830\n",
      "Belgium                  2031   0.510398\n",
      "Switzerland              1842   0.462901\n",
      "Portugal                 1462   0.367406\n",
      "Australia                1185   0.297795\n",
      "Norway                   1072   0.269397\n",
      "Italy                     758   0.190488\n",
      "Channel Islands           748   0.187975\n",
      "Finland                   685   0.172143\n",
      "Cyprus                    614   0.154300\n",
      "Sweden                    451   0.113338\n",
      "Austria                   398   0.100019\n",
      "Denmark                   380   0.095495\n",
      "Poland                    330   0.082930\n",
      "Japan                     321   0.080668\n",
      "Israel                    248   0.062323\n",
      "Unspecified               244   0.061318\n",
      "Singapore                 222   0.055789\n",
      "Iceland                   182   0.045737\n",
      "USA                       179   0.044983\n",
      "Canada                    151   0.037947\n",
      "Greece                    145   0.036439\n",
      "Malta                     112   0.028146\n",
      "United Arab Emirates       68   0.017089\n",
      "European Community         60   0.015078\n",
      "RSA                        58   0.014576\n",
      "Lebanon                    45   0.011309\n",
      "Lithuania                  35   0.008796\n",
      "Brazil                     32   0.008042\n",
      "Czech Republic             25   0.006283\n",
      "Bahrain                    17   0.004272\n",
      "Saudi Arabia                9   0.002262\n",
      "##########################################\n"
     ]
    },
    {
     "data": {
      "image/png": "[encoded data removed]",
      "text/plain": [
       "<Figure size 1080x360 with 1 Axes>"
      ]
     },
     "metadata": {
      "needs_background": "light"
     },
     "output_type": "display_data"
    }
   ],
   "source": [
    "def cat_summary(dataframe, col_name, plot=False):\n",
    "    print(pd.DataFrame({col_name: dataframe[col_name].value_counts(),\n",
    "                        \"Ratio\": 100 * dataframe[col_name].value_counts() / len(dataframe)}))\n",
    "    print(\"##########################################\")\n",
    "    if plot:\n",
    "        fig_dims = (15, 5)\n",
    "        fig, ax = plt.subplots(figsize=fig_dims)\n",
    "        sns.countplot(x=dataframe[col_name], data=dataframe)\n",
    "        plt.xticks(rotation = 45, ha = 'right')\n",
    "        plt.show()\n",
    "\n",
    "cat_summary(df, \"Country\", plot=True)"
   ]
  },
  {
   "cell_type": "markdown",
   "id": "22cdc6de",
   "metadata": {
    "papermill": {
     "duration": 0.056754,
     "end_time": "2021-09-17T14:30:31.355132",
     "exception": false,
     "start_time": "2021-09-17T14:30:31.298378",
     "status": "completed"
    },
    "tags": []
   },
   "source": [
    "\n",
    "As we can see above, approximately United Kingdom Ratio is %90.02.  Therefore, we only analyze the UK in our study."
   ]
  },
  {
   "cell_type": "markdown",
   "id": "2d715344",
   "metadata": {
    "papermill": {
     "duration": 0.039006,
     "end_time": "2021-09-17T14:30:31.435137",
     "exception": false,
     "start_time": "2021-09-17T14:30:31.396131",
     "status": "completed"
    },
    "tags": []
   },
   "source": [
    "<a id = \"11\"></a><br>\n",
    "## Numerical Variable Analysis"
   ]
  },
  {
   "cell_type": "markdown",
   "id": "65a0a83b",
   "metadata": {
    "papermill": {
     "duration": 0.0397,
     "end_time": "2021-09-17T14:30:31.514114",
     "exception": false,
     "start_time": "2021-09-17T14:30:31.474414",
     "status": "completed"
    },
    "tags": []
   },
   "source": [
    "In comprehension structure below, we indicate that fetch other than \"Customer ID\". "
   ]
  },
  {
   "cell_type": "code",
   "execution_count": 10,
   "id": "a054a164",
   "metadata": {
    "execution": {
     "iopub.execute_input": "2021-09-17T14:30:31.598924Z",
     "iopub.status.busy": "2021-09-17T14:30:31.596094Z",
     "iopub.status.idle": "2021-09-17T14:30:31.602094Z",
     "shell.execute_reply": "2021-09-17T14:30:31.602715Z"
    },
    "papermill": {
     "duration": 0.049259,
     "end_time": "2021-09-17T14:30:31.602892",
     "exception": false,
     "start_time": "2021-09-17T14:30:31.553633",
     "status": "completed"
    },
    "tags": []
   },
   "outputs": [
    {
     "data": {
      "text/plain": [
       "['Quantity', 'InvoiceDate', 'Price']"
      ]
     },
     "execution_count": 10,
     "metadata": {},
     "output_type": "execute_result"
    }
   ],
   "source": [
    "num_cols = [col for col in df.columns if df[col].dtypes != 'O' and col not in \"Customer ID\"]\n",
    "num_cols"
   ]
  },
  {
   "cell_type": "code",
   "execution_count": 11,
   "id": "ec48fa4c",
   "metadata": {
    "execution": {
     "iopub.execute_input": "2021-09-17T14:30:31.685647Z",
     "iopub.status.busy": "2021-09-17T14:30:31.684985Z",
     "iopub.status.idle": "2021-09-17T14:30:32.508667Z",
     "shell.execute_reply": "2021-09-17T14:30:32.509138Z"
    },
    "papermill": {
     "duration": 0.866703,
     "end_time": "2021-09-17T14:30:32.509310",
     "exception": false,
     "start_time": "2021-09-17T14:30:31.642607",
     "status": "completed"
    },
    "tags": []
   },
   "outputs": [
    {
     "name": "stdout",
     "output_type": "stream",
     "text": [
      "count    397925.000000\n",
      "mean         11.700748\n",
      "std          24.126162\n",
      "min           1.000000\n",
      "5%            1.000000\n",
      "10%           1.000000\n",
      "20%           2.000000\n",
      "30%           2.000000\n",
      "40%           4.000000\n",
      "50%           6.000000\n",
      "60%           8.000000\n",
      "70%          12.000000\n",
      "80%          12.000000\n",
      "90%          24.000000\n",
      "95%          36.000000\n",
      "99%         120.000000\n",
      "max         253.000000\n",
      "Name: Quantity, dtype: float64\n"
     ]
    },
    {
     "data": {
      "image/png": "[encoded data removed]",
      "text/plain": [
       "<Figure size 432x288 with 1 Axes>"
      ]
     },
     "metadata": {
      "needs_background": "light"
     },
     "output_type": "display_data"
    },
    {
     "name": "stdout",
     "output_type": "stream",
     "text": [
      "count                  397925\n",
      "unique                  17286\n",
      "top       2011-11-14 15:27:00\n",
      "freq                      542\n",
      "first     2010-12-01 08:26:00\n",
      "last      2011-12-09 12:50:00\n",
      "Name: InvoiceDate, dtype: object\n"
     ]
    },
    {
     "data": {
      "image/png": "[encoded data removed]",
      "text/plain": [
       "<Figure size 432x288 with 1 Axes>"
      ]
     },
     "metadata": {
      "needs_background": "light"
     },
     "output_type": "display_data"
    },
    {
     "name": "stdout",
     "output_type": "stream",
     "text": [
      "count    397925.000000\n",
      "mean          2.902793\n",
      "std           3.336789\n",
      "min           0.000000\n",
      "5%            0.420000\n",
      "10%           0.550000\n",
      "20%           0.850000\n",
      "30%           1.250000\n",
      "40%           1.650000\n",
      "50%           1.950000\n",
      "60%           2.100000\n",
      "70%           2.950000\n",
      "80%           4.150000\n",
      "90%           6.350000\n",
      "95%           8.500000\n",
      "99%          14.950000\n",
      "max          44.715000\n",
      "Name: Price, dtype: float64\n"
     ]
    },
    {
     "data": {
      "image/png": "[encoded data removed]",
      "text/plain": [
       "<Figure size 432x288 with 1 Axes>"
      ]
     },
     "metadata": {
      "needs_background": "light"
     },
     "output_type": "display_data"
    }
   ],
   "source": [
    "def num_summary(dataframe, numerical_col, plot=False):\n",
    "    quantiles = [0.05, 0.10, 0.20, 0.30, 0.40, 0.50, 0.60, 0.70, 0.80, 0.90, 0.95, 0.99]\n",
    "    print(dataframe[numerical_col].describe(quantiles).T)\n",
    "\n",
    "    if plot:\n",
    "        dataframe[numerical_col].hist(bins=20)\n",
    "        plt.xlabel(numerical_col)\n",
    "        plt.title(numerical_col)\n",
    "        plt.show()\n",
    "\n",
    "for col in num_cols:\n",
    "    num_summary(df, col, plot=True)\n"
   ]
  },
  {
   "cell_type": "code",
   "execution_count": 12,
   "id": "68e23b76",
   "metadata": {
    "execution": {
     "iopub.execute_input": "2021-09-17T14:30:32.615525Z",
     "iopub.status.busy": "2021-09-17T14:30:32.614819Z",
     "iopub.status.idle": "2021-09-17T14:30:32.619506Z",
     "shell.execute_reply": "2021-09-17T14:30:32.619973Z"
    },
    "papermill": {
     "duration": 0.068374,
     "end_time": "2021-09-17T14:30:32.620153",
     "exception": false,
     "start_time": "2021-09-17T14:30:32.551779",
     "status": "completed"
    },
    "tags": []
   },
   "outputs": [
    {
     "data": {
      "text/plain": [
       "3665"
      ]
     },
     "execution_count": 12,
     "metadata": {},
     "output_type": "execute_result"
    }
   ],
   "source": [
    "# number of unique products\n",
    "df[\"StockCode\"].nunique()"
   ]
  },
  {
   "cell_type": "markdown",
   "id": "f6c6ef95",
   "metadata": {
    "papermill": {
     "duration": 0.042946,
     "end_time": "2021-09-17T14:30:32.706765",
     "exception": false,
     "start_time": "2021-09-17T14:30:32.663819",
     "status": "completed"
    },
    "tags": []
   },
   "source": [
    "How many sales for a specific product?"
   ]
  },
  {
   "cell_type": "code",
   "execution_count": 13,
   "id": "719c05be",
   "metadata": {
    "execution": {
     "iopub.execute_input": "2021-09-17T14:30:32.825839Z",
     "iopub.status.busy": "2021-09-17T14:30:32.806465Z",
     "iopub.status.idle": "2021-09-17T14:30:32.870601Z",
     "shell.execute_reply": "2021-09-17T14:30:32.870029Z"
    },
    "papermill": {
     "duration": 0.12075,
     "end_time": "2021-09-17T14:30:32.870760",
     "exception": false,
     "start_time": "2021-09-17T14:30:32.750010",
     "status": "completed"
    },
    "tags": []
   },
   "outputs": [
    {
     "data": {
      "text/html": [
       "<div>\n",
       "<style scoped>\n",
       "    .dataframe tbody tr th:only-of-type {\n",
       "        vertical-align: middle;\n",
       "    }\n",
       "\n",
       "    .dataframe tbody tr th {\n",
       "        vertical-align: top;\n",
       "    }\n",
       "\n",
       "    .dataframe thead th {\n",
       "        text-align: right;\n",
       "    }\n",
       "</style>\n",
       "<table border=\"1\" class=\"dataframe\">\n",
       "  <thead>\n",
       "    <tr style=\"text-align: right;\">\n",
       "      <th></th>\n",
       "      <th>Description</th>\n",
       "      <th>Quantity</th>\n",
       "    </tr>\n",
       "  </thead>\n",
       "  <tbody>\n",
       "    <tr>\n",
       "      <th>0</th>\n",
       "      <td>4 PURPLE FLOCK DINNER CANDLES</td>\n",
       "      <td>39</td>\n",
       "    </tr>\n",
       "    <tr>\n",
       "      <th>1</th>\n",
       "      <td>50'S CHRISTMAS GIFT BAG LARGE</td>\n",
       "      <td>109</td>\n",
       "    </tr>\n",
       "    <tr>\n",
       "      <th>2</th>\n",
       "      <td>DOLLY GIRL BEAKER</td>\n",
       "      <td>138</td>\n",
       "    </tr>\n",
       "    <tr>\n",
       "      <th>3</th>\n",
       "      <td>I LOVE LONDON MINI BACKPACK</td>\n",
       "      <td>70</td>\n",
       "    </tr>\n",
       "    <tr>\n",
       "      <th>4</th>\n",
       "      <td>I LOVE LONDON MINI RUCKSACK</td>\n",
       "      <td>1</td>\n",
       "    </tr>\n",
       "    <tr>\n",
       "      <th>...</th>\n",
       "      <td>...</td>\n",
       "      <td>...</td>\n",
       "    </tr>\n",
       "    <tr>\n",
       "      <th>3872</th>\n",
       "      <td>ZINC T-LIGHT HOLDER STARS SMALL</td>\n",
       "      <td>238</td>\n",
       "    </tr>\n",
       "    <tr>\n",
       "      <th>3873</th>\n",
       "      <td>ZINC TOP  2 DOOR WOODEN SHELF</td>\n",
       "      <td>9</td>\n",
       "    </tr>\n",
       "    <tr>\n",
       "      <th>3874</th>\n",
       "      <td>ZINC WILLIE WINKIE  CANDLE STICK</td>\n",
       "      <td>192</td>\n",
       "    </tr>\n",
       "    <tr>\n",
       "      <th>3875</th>\n",
       "      <td>ZINC WIRE KITCHEN ORGANISER</td>\n",
       "      <td>12</td>\n",
       "    </tr>\n",
       "    <tr>\n",
       "      <th>3876</th>\n",
       "      <td>ZINC WIRE SWEETHEART LETTER TRAY</td>\n",
       "      <td>20</td>\n",
       "    </tr>\n",
       "  </tbody>\n",
       "</table>\n",
       "<p>3877 rows × 2 columns</p>\n",
       "</div>"
      ],
      "text/plain": [
       "                           Description  Quantity\n",
       "0        4 PURPLE FLOCK DINNER CANDLES        39\n",
       "1        50'S CHRISTMAS GIFT BAG LARGE       109\n",
       "2                    DOLLY GIRL BEAKER       138\n",
       "3          I LOVE LONDON MINI BACKPACK        70\n",
       "4          I LOVE LONDON MINI RUCKSACK         1\n",
       "...                                ...       ...\n",
       "3872   ZINC T-LIGHT HOLDER STARS SMALL       238\n",
       "3873    ZINC TOP  2 DOOR WOODEN SHELF          9\n",
       "3874  ZINC WILLIE WINKIE  CANDLE STICK       192\n",
       "3875       ZINC WIRE KITCHEN ORGANISER        12\n",
       "3876  ZINC WIRE SWEETHEART LETTER TRAY        20\n",
       "\n",
       "[3877 rows x 2 columns]"
      ]
     },
     "execution_count": 13,
     "metadata": {},
     "output_type": "execute_result"
    }
   ],
   "source": [
    "df_product = df.groupby(\"Description\").agg({\"Quantity\":\"count\"})\n",
    "df_product.reset_index(inplace=True)\n",
    "df_product"
   ]
  },
  {
   "cell_type": "code",
   "execution_count": 14,
   "id": "68bb3ea7",
   "metadata": {
    "execution": {
     "iopub.execute_input": "2021-09-17T14:30:32.964035Z",
     "iopub.status.busy": "2021-09-17T14:30:32.963352Z",
     "iopub.status.idle": "2021-09-17T14:30:33.234499Z",
     "shell.execute_reply": "2021-09-17T14:30:33.235093Z"
    },
    "papermill": {
     "duration": 0.320809,
     "end_time": "2021-09-17T14:30:33.235260",
     "exception": false,
     "start_time": "2021-09-17T14:30:32.914451",
     "status": "completed"
    },
    "tags": []
   },
   "outputs": [
    {
     "data": {
      "image/png": "[encoded data removed]",
      "text/plain": [
       "<Figure size 432x288 with 1 Axes>"
      ]
     },
     "metadata": {
      "needs_background": "light"
     },
     "output_type": "display_data"
    }
   ],
   "source": [
    "# top 10 selling products\n",
    "top_pr= df_product.sort_values(by=\"Quantity\",ascending=False).head(10)\n",
    "\n",
    "sns.barplot(x=\"Description\", y=\"Quantity\",data=top_pr)\n",
    "plt.xticks(rotation=90)\n",
    "plt.show()"
   ]
  },
  {
   "cell_type": "code",
   "execution_count": 15,
   "id": "eb8c594d",
   "metadata": {
    "execution": {
     "iopub.execute_input": "2021-09-17T14:30:33.329331Z",
     "iopub.status.busy": "2021-09-17T14:30:33.328695Z",
     "iopub.status.idle": "2021-09-17T14:30:33.335238Z",
     "shell.execute_reply": "2021-09-17T14:30:33.335798Z"
    },
    "papermill": {
     "duration": 0.055227,
     "end_time": "2021-09-17T14:30:33.335967",
     "exception": false,
     "start_time": "2021-09-17T14:30:33.280740",
     "status": "completed"
    },
    "tags": []
   },
   "outputs": [],
   "source": [
    "# total price per invoice\n",
    "df[\"TotalPrice\"] = df[\"Price\"] * df[\"Quantity\"]"
   ]
  },
  {
   "cell_type": "markdown",
   "id": "58fed291",
   "metadata": {
    "papermill": {
     "duration": 0.045135,
     "end_time": "2021-09-17T14:30:33.426577",
     "exception": false,
     "start_time": "2021-09-17T14:30:33.381442",
     "status": "completed"
    },
    "tags": []
   },
   "source": [
    "<a id = \"12\"></a><br>\n",
    "# Customer Segmentation With RFM"
   ]
  },
  {
   "cell_type": "markdown",
   "id": "e454dc23",
   "metadata": {
    "papermill": {
     "duration": 0.046348,
     "end_time": "2021-09-17T14:30:33.518685",
     "exception": false,
     "start_time": "2021-09-17T14:30:33.472337",
     "status": "completed"
    },
    "tags": []
   },
   "source": [
    "<a id = \"13\"></a><br>\n",
    "# Preparation of RFM Metrics"
   ]
  },
  {
   "cell_type": "markdown",
   "id": "2b6904e2",
   "metadata": {
    "papermill": {
     "duration": 0.046139,
     "end_time": "2021-09-17T14:30:33.610663",
     "exception": false,
     "start_time": "2021-09-17T14:30:33.564524",
     "status": "completed"
    },
    "tags": []
   },
   "source": [
    "* **recency**: the difference between today and the customer's last purchase date, in days.\n",
    "* **frequency**: customer's shopping frequency.\n",
    "* **monetary**: total money paid by the customer."
   ]
  },
  {
   "cell_type": "code",
   "execution_count": 16,
   "id": "6c504ce7",
   "metadata": {
    "execution": {
     "iopub.execute_input": "2021-09-17T14:30:33.705928Z",
     "iopub.status.busy": "2021-09-17T14:30:33.705301Z",
     "iopub.status.idle": "2021-09-17T14:30:33.735272Z",
     "shell.execute_reply": "2021-09-17T14:30:33.734731Z"
    },
    "papermill": {
     "duration": 0.078141,
     "end_time": "2021-09-17T14:30:33.735432",
     "exception": false,
     "start_time": "2021-09-17T14:30:33.657291",
     "status": "completed"
    },
    "tags": []
   },
   "outputs": [],
   "source": [
    "# Determining the analysis date for the recency account\n",
    "df[\"InvoiceDate\"] = pd.to_datetime(df[\"InvoiceDate\"])\n",
    "df[\"InvoiceDate\"].max()\n",
    "today_date = dt.datetime(2011, 12, 11)"
   ]
  },
  {
   "cell_type": "code",
   "execution_count": 17,
   "id": "c124d1ff",
   "metadata": {
    "execution": {
     "iopub.execute_input": "2021-09-17T14:30:33.835707Z",
     "iopub.status.busy": "2021-09-17T14:30:33.834989Z",
     "iopub.status.idle": "2021-09-17T14:30:35.021447Z",
     "shell.execute_reply": "2021-09-17T14:30:35.020895Z"
    },
    "papermill": {
     "duration": 1.240079,
     "end_time": "2021-09-17T14:30:35.021581",
     "exception": false,
     "start_time": "2021-09-17T14:30:33.781502",
     "status": "completed"
    },
    "tags": []
   },
   "outputs": [
    {
     "data": {
      "text/html": [
       "<div>\n",
       "<style scoped>\n",
       "    .dataframe tbody tr th:only-of-type {\n",
       "        vertical-align: middle;\n",
       "    }\n",
       "\n",
       "    .dataframe tbody tr th {\n",
       "        vertical-align: top;\n",
       "    }\n",
       "\n",
       "    .dataframe thead th {\n",
       "        text-align: right;\n",
       "    }\n",
       "</style>\n",
       "<table border=\"1\" class=\"dataframe\">\n",
       "  <thead>\n",
       "    <tr style=\"text-align: right;\">\n",
       "      <th></th>\n",
       "      <th>count</th>\n",
       "      <th>mean</th>\n",
       "      <th>std</th>\n",
       "      <th>min</th>\n",
       "      <th>25%</th>\n",
       "      <th>50%</th>\n",
       "      <th>75%</th>\n",
       "      <th>max</th>\n",
       "    </tr>\n",
       "  </thead>\n",
       "  <tbody>\n",
       "    <tr>\n",
       "      <th>recency</th>\n",
       "      <td>4339.0</td>\n",
       "      <td>93.041484</td>\n",
       "      <td>100.007757</td>\n",
       "      <td>1.0</td>\n",
       "      <td>18.00</td>\n",
       "      <td>51.00</td>\n",
       "      <td>142.500</td>\n",
       "      <td>374.0</td>\n",
       "    </tr>\n",
       "    <tr>\n",
       "      <th>frequency</th>\n",
       "      <td>4339.0</td>\n",
       "      <td>4.271952</td>\n",
       "      <td>7.705493</td>\n",
       "      <td>1.0</td>\n",
       "      <td>1.00</td>\n",
       "      <td>2.00</td>\n",
       "      <td>5.000</td>\n",
       "      <td>210.0</td>\n",
       "    </tr>\n",
       "    <tr>\n",
       "      <th>monetary</th>\n",
       "      <td>4339.0</td>\n",
       "      <td>1876.869003</td>\n",
       "      <td>7504.531226</td>\n",
       "      <td>0.0</td>\n",
       "      <td>302.52</td>\n",
       "      <td>663.65</td>\n",
       "      <td>1630.445</td>\n",
       "      <td>262302.2</td>\n",
       "    </tr>\n",
       "  </tbody>\n",
       "</table>\n",
       "</div>"
      ],
      "text/plain": [
       "            count         mean          std  min     25%     50%       75%  \\\n",
       "recency    4339.0    93.041484   100.007757  1.0   18.00   51.00   142.500   \n",
       "frequency  4339.0     4.271952     7.705493  1.0    1.00    2.00     5.000   \n",
       "monetary   4339.0  1876.869003  7504.531226  0.0  302.52  663.65  1630.445   \n",
       "\n",
       "                max  \n",
       "recency       374.0  \n",
       "frequency     210.0  \n",
       "monetary   262302.2  "
      ]
     },
     "execution_count": 17,
     "metadata": {},
     "output_type": "execute_result"
    }
   ],
   "source": [
    "# generating rfm metrics\n",
    "rfm = df.groupby(\"Customer ID\").agg({\"InvoiceDate\": lambda InvıiceDate: (today_date- InvıiceDate.max()).days,\n",
    "                                    \"Invoice\": lambda Invoice: Invoice.nunique(),\n",
    "                                    \"TotalPrice\": lambda TotalPrice: TotalPrice.sum()})\n",
    "\n",
    "rfm.columns = [\"recency\",\"frequency\",\"monetary\"]\n",
    "rfm.describe().T"
   ]
  },
  {
   "cell_type": "markdown",
   "id": "35247028",
   "metadata": {
    "papermill": {
     "duration": 0.046118,
     "end_time": "2021-09-17T14:30:35.114353",
     "exception": false,
     "start_time": "2021-09-17T14:30:35.068235",
     "status": "completed"
    },
    "tags": []
   },
   "source": [
    "<a id = \"14\"></a><br>\n",
    "# Generating RFM Scores"
   ]
  },
  {
   "cell_type": "code",
   "execution_count": 18,
   "id": "0386238f",
   "metadata": {
    "execution": {
     "iopub.execute_input": "2021-09-17T14:30:35.215859Z",
     "iopub.status.busy": "2021-09-17T14:30:35.214819Z",
     "iopub.status.idle": "2021-09-17T14:30:35.234135Z",
     "shell.execute_reply": "2021-09-17T14:30:35.234599Z"
    },
    "papermill": {
     "duration": 0.074329,
     "end_time": "2021-09-17T14:30:35.234792",
     "exception": false,
     "start_time": "2021-09-17T14:30:35.160463",
     "status": "completed"
    },
    "tags": []
   },
   "outputs": [
    {
     "data": {
      "text/html": [
       "<div>\n",
       "<style scoped>\n",
       "    .dataframe tbody tr th:only-of-type {\n",
       "        vertical-align: middle;\n",
       "    }\n",
       "\n",
       "    .dataframe tbody tr th {\n",
       "        vertical-align: top;\n",
       "    }\n",
       "\n",
       "    .dataframe thead th {\n",
       "        text-align: right;\n",
       "    }\n",
       "</style>\n",
       "<table border=\"1\" class=\"dataframe\">\n",
       "  <thead>\n",
       "    <tr style=\"text-align: right;\">\n",
       "      <th></th>\n",
       "      <th>count</th>\n",
       "      <th>mean</th>\n",
       "      <th>std</th>\n",
       "      <th>min</th>\n",
       "      <th>25%</th>\n",
       "      <th>50%</th>\n",
       "      <th>75%</th>\n",
       "      <th>max</th>\n",
       "    </tr>\n",
       "  </thead>\n",
       "  <tbody>\n",
       "    <tr>\n",
       "      <th>recency</th>\n",
       "      <td>4338.0</td>\n",
       "      <td>93.059474</td>\n",
       "      <td>100.012264</td>\n",
       "      <td>1.00</td>\n",
       "      <td>18.00</td>\n",
       "      <td>51.00</td>\n",
       "      <td>142.7500</td>\n",
       "      <td>374.0</td>\n",
       "    </tr>\n",
       "    <tr>\n",
       "      <th>frequency</th>\n",
       "      <td>4338.0</td>\n",
       "      <td>4.272706</td>\n",
       "      <td>7.706221</td>\n",
       "      <td>1.00</td>\n",
       "      <td>1.00</td>\n",
       "      <td>2.00</td>\n",
       "      <td>5.0000</td>\n",
       "      <td>210.0</td>\n",
       "    </tr>\n",
       "    <tr>\n",
       "      <th>monetary</th>\n",
       "      <td>4338.0</td>\n",
       "      <td>1877.301661</td>\n",
       "      <td>7505.342229</td>\n",
       "      <td>3.75</td>\n",
       "      <td>302.61</td>\n",
       "      <td>663.73</td>\n",
       "      <td>1631.1075</td>\n",
       "      <td>262302.2</td>\n",
       "    </tr>\n",
       "  </tbody>\n",
       "</table>\n",
       "</div>"
      ],
      "text/plain": [
       "            count         mean          std   min     25%     50%        75%  \\\n",
       "recency    4338.0    93.059474   100.012264  1.00   18.00   51.00   142.7500   \n",
       "frequency  4338.0     4.272706     7.706221  1.00    1.00    2.00     5.0000   \n",
       "monetary   4338.0  1877.301661  7505.342229  3.75  302.61  663.73  1631.1075   \n",
       "\n",
       "                max  \n",
       "recency       374.0  \n",
       "frequency     210.0  \n",
       "monetary   262302.2  "
      ]
     },
     "execution_count": 18,
     "metadata": {},
     "output_type": "execute_result"
    }
   ],
   "source": [
    "# total money can't be 0. So, if there is any, we remove them.\n",
    "\n",
    "rfm = rfm[rfm[\"monetary\"] > 0]\n",
    "rfm.describe().T"
   ]
  },
  {
   "cell_type": "code",
   "execution_count": 19,
   "id": "17d8f980",
   "metadata": {
    "execution": {
     "iopub.execute_input": "2021-09-17T14:30:35.332249Z",
     "iopub.status.busy": "2021-09-17T14:30:35.331609Z",
     "iopub.status.idle": "2021-09-17T14:30:35.363583Z",
     "shell.execute_reply": "2021-09-17T14:30:35.364042Z"
    },
    "papermill": {
     "duration": 0.082591,
     "end_time": "2021-09-17T14:30:35.364210",
     "exception": false,
     "start_time": "2021-09-17T14:30:35.281619",
     "status": "completed"
    },
    "tags": []
   },
   "outputs": [
    {
     "data": {
      "text/html": [
       "<div>\n",
       "<style scoped>\n",
       "    .dataframe tbody tr th:only-of-type {\n",
       "        vertical-align: middle;\n",
       "    }\n",
       "\n",
       "    .dataframe tbody tr th {\n",
       "        vertical-align: top;\n",
       "    }\n",
       "\n",
       "    .dataframe thead th {\n",
       "        text-align: right;\n",
       "    }\n",
       "</style>\n",
       "<table border=\"1\" class=\"dataframe\">\n",
       "  <thead>\n",
       "    <tr style=\"text-align: right;\">\n",
       "      <th></th>\n",
       "      <th>recency</th>\n",
       "      <th>frequency</th>\n",
       "      <th>monetary</th>\n",
       "      <th>recency_score</th>\n",
       "      <th>frequency_score</th>\n",
       "      <th>monetary_score</th>\n",
       "      <th>RFM_SCORE</th>\n",
       "    </tr>\n",
       "    <tr>\n",
       "      <th>Customer ID</th>\n",
       "      <th></th>\n",
       "      <th></th>\n",
       "      <th></th>\n",
       "      <th></th>\n",
       "      <th></th>\n",
       "      <th></th>\n",
       "      <th></th>\n",
       "    </tr>\n",
       "  </thead>\n",
       "  <tbody>\n",
       "    <tr>\n",
       "      <th>12346.0</th>\n",
       "      <td>326</td>\n",
       "      <td>1</td>\n",
       "      <td>263.120</td>\n",
       "      <td>1</td>\n",
       "      <td>1</td>\n",
       "      <td>2</td>\n",
       "      <td>11</td>\n",
       "    </tr>\n",
       "    <tr>\n",
       "      <th>12347.0</th>\n",
       "      <td>3</td>\n",
       "      <td>7</td>\n",
       "      <td>4310.000</td>\n",
       "      <td>5</td>\n",
       "      <td>5</td>\n",
       "      <td>5</td>\n",
       "      <td>55</td>\n",
       "    </tr>\n",
       "    <tr>\n",
       "      <th>12348.0</th>\n",
       "      <td>76</td>\n",
       "      <td>4</td>\n",
       "      <td>1797.240</td>\n",
       "      <td>2</td>\n",
       "      <td>4</td>\n",
       "      <td>4</td>\n",
       "      <td>24</td>\n",
       "    </tr>\n",
       "    <tr>\n",
       "      <th>12349.0</th>\n",
       "      <td>19</td>\n",
       "      <td>1</td>\n",
       "      <td>1502.265</td>\n",
       "      <td>4</td>\n",
       "      <td>1</td>\n",
       "      <td>4</td>\n",
       "      <td>41</td>\n",
       "    </tr>\n",
       "    <tr>\n",
       "      <th>12350.0</th>\n",
       "      <td>311</td>\n",
       "      <td>1</td>\n",
       "      <td>334.400</td>\n",
       "      <td>1</td>\n",
       "      <td>1</td>\n",
       "      <td>2</td>\n",
       "      <td>11</td>\n",
       "    </tr>\n",
       "    <tr>\n",
       "      <th>12352.0</th>\n",
       "      <td>37</td>\n",
       "      <td>8</td>\n",
       "      <td>1799.885</td>\n",
       "      <td>3</td>\n",
       "      <td>5</td>\n",
       "      <td>4</td>\n",
       "      <td>35</td>\n",
       "    </tr>\n",
       "    <tr>\n",
       "      <th>12353.0</th>\n",
       "      <td>205</td>\n",
       "      <td>1</td>\n",
       "      <td>89.000</td>\n",
       "      <td>1</td>\n",
       "      <td>1</td>\n",
       "      <td>1</td>\n",
       "      <td>11</td>\n",
       "    </tr>\n",
       "    <tr>\n",
       "      <th>12354.0</th>\n",
       "      <td>233</td>\n",
       "      <td>1</td>\n",
       "      <td>1079.400</td>\n",
       "      <td>1</td>\n",
       "      <td>1</td>\n",
       "      <td>4</td>\n",
       "      <td>11</td>\n",
       "    </tr>\n",
       "    <tr>\n",
       "      <th>12355.0</th>\n",
       "      <td>215</td>\n",
       "      <td>1</td>\n",
       "      <td>459.400</td>\n",
       "      <td>1</td>\n",
       "      <td>1</td>\n",
       "      <td>2</td>\n",
       "      <td>11</td>\n",
       "    </tr>\n",
       "    <tr>\n",
       "      <th>12356.0</th>\n",
       "      <td>23</td>\n",
       "      <td>3</td>\n",
       "      <td>2811.430</td>\n",
       "      <td>4</td>\n",
       "      <td>3</td>\n",
       "      <td>5</td>\n",
       "      <td>43</td>\n",
       "    </tr>\n",
       "  </tbody>\n",
       "</table>\n",
       "</div>"
      ],
      "text/plain": [
       "             recency  frequency  monetary recency_score frequency_score  \\\n",
       "Customer ID                                                               \n",
       "12346.0          326          1   263.120             1               1   \n",
       "12347.0            3          7  4310.000             5               5   \n",
       "12348.0           76          4  1797.240             2               4   \n",
       "12349.0           19          1  1502.265             4               1   \n",
       "12350.0          311          1   334.400             1               1   \n",
       "12352.0           37          8  1799.885             3               5   \n",
       "12353.0          205          1    89.000             1               1   \n",
       "12354.0          233          1  1079.400             1               1   \n",
       "12355.0          215          1   459.400             1               1   \n",
       "12356.0           23          3  2811.430             4               3   \n",
       "\n",
       "            monetary_score RFM_SCORE  \n",
       "Customer ID                           \n",
       "12346.0                  2        11  \n",
       "12347.0                  5        55  \n",
       "12348.0                  4        24  \n",
       "12349.0                  4        41  \n",
       "12350.0                  2        11  \n",
       "12352.0                  4        35  \n",
       "12353.0                  1        11  \n",
       "12354.0                  4        11  \n",
       "12355.0                  2        11  \n",
       "12356.0                  5        43  "
      ]
     },
     "execution_count": 19,
     "metadata": {},
     "output_type": "execute_result"
    }
   ],
   "source": [
    "# recency_score\n",
    "rfm[\"recency_score\"] = pd.qcut(rfm['recency'], 5, labels=[5, 4, 3, 2, 1])\n",
    "# frequency_score\n",
    "rfm[\"frequency_score\"] = pd.qcut(rfm[\"frequency\"].rank(method=\"first\"), 5, labels=[1, 2, 3, 4, 5])\n",
    "# monetary_score\n",
    "rfm[\"monetary_score\"] = pd.qcut(rfm[\"monetary\"], 5, labels=[1, 2, 3, 4, 5])\n",
    "\n",
    "# RFM Score\n",
    "rfm[\"RFM_SCORE\"] = (rfm[\"recency_score\"].astype(str) + rfm[\"frequency_score\"].astype(str))\n",
    "rfm.head(10)"
   ]
  },
  {
   "cell_type": "markdown",
   "id": "b6796610",
   "metadata": {
    "papermill": {
     "duration": 0.047439,
     "end_time": "2021-09-17T14:30:35.459208",
     "exception": false,
     "start_time": "2021-09-17T14:30:35.411769",
     "status": "completed"
    },
    "tags": []
   },
   "source": [
    "<a id = \"15\"></a><br>\n",
    "# Segmenting Customers Based on RFM Scores"
   ]
  },
  {
   "cell_type": "markdown",
   "id": "3c5dcd31",
   "metadata": {
    "papermill": {
     "duration": 0.048181,
     "end_time": "2021-09-17T14:30:35.555519",
     "exception": false,
     "start_time": "2021-09-17T14:30:35.507338",
     "status": "completed"
    },
    "tags": []
   },
   "source": [
    "Given labels to RFM scores"
   ]
  },
  {
   "cell_type": "code",
   "execution_count": 20,
   "id": "677ebb31",
   "metadata": {
    "execution": {
     "iopub.execute_input": "2021-09-17T14:30:35.656521Z",
     "iopub.status.busy": "2021-09-17T14:30:35.655557Z",
     "iopub.status.idle": "2021-09-17T14:30:35.771688Z",
     "shell.execute_reply": "2021-09-17T14:30:35.772210Z"
    },
    "papermill": {
     "duration": 0.168068,
     "end_time": "2021-09-17T14:30:35.772379",
     "exception": false,
     "start_time": "2021-09-17T14:30:35.604311",
     "status": "completed"
    },
    "tags": []
   },
   "outputs": [
    {
     "data": {
      "text/html": [
       "<div>\n",
       "<style scoped>\n",
       "    .dataframe tbody tr th:only-of-type {\n",
       "        vertical-align: middle;\n",
       "    }\n",
       "\n",
       "    .dataframe tbody tr th {\n",
       "        vertical-align: top;\n",
       "    }\n",
       "\n",
       "    .dataframe thead th {\n",
       "        text-align: right;\n",
       "    }\n",
       "</style>\n",
       "<table border=\"1\" class=\"dataframe\">\n",
       "  <thead>\n",
       "    <tr style=\"text-align: right;\">\n",
       "      <th></th>\n",
       "      <th>recency</th>\n",
       "      <th>frequency</th>\n",
       "      <th>monetary</th>\n",
       "      <th>recency_score</th>\n",
       "      <th>frequency_score</th>\n",
       "      <th>monetary_score</th>\n",
       "      <th>RFM_SCORE</th>\n",
       "      <th>segment</th>\n",
       "    </tr>\n",
       "    <tr>\n",
       "      <th>Customer ID</th>\n",
       "      <th></th>\n",
       "      <th></th>\n",
       "      <th></th>\n",
       "      <th></th>\n",
       "      <th></th>\n",
       "      <th></th>\n",
       "      <th></th>\n",
       "      <th></th>\n",
       "    </tr>\n",
       "  </thead>\n",
       "  <tbody>\n",
       "    <tr>\n",
       "      <th>17651.0</th>\n",
       "      <td>12</td>\n",
       "      <td>10</td>\n",
       "      <td>3945.000</td>\n",
       "      <td>5</td>\n",
       "      <td>5</td>\n",
       "      <td>5</td>\n",
       "      <td>55</td>\n",
       "      <td>champions</td>\n",
       "    </tr>\n",
       "    <tr>\n",
       "      <th>16905.0</th>\n",
       "      <td>6</td>\n",
       "      <td>7</td>\n",
       "      <td>3102.430</td>\n",
       "      <td>5</td>\n",
       "      <td>5</td>\n",
       "      <td>5</td>\n",
       "      <td>55</td>\n",
       "      <td>champions</td>\n",
       "    </tr>\n",
       "    <tr>\n",
       "      <th>15271.0</th>\n",
       "      <td>8</td>\n",
       "      <td>15</td>\n",
       "      <td>2507.070</td>\n",
       "      <td>5</td>\n",
       "      <td>5</td>\n",
       "      <td>5</td>\n",
       "      <td>55</td>\n",
       "      <td>champions</td>\n",
       "    </tr>\n",
       "    <tr>\n",
       "      <th>14825.0</th>\n",
       "      <td>4</td>\n",
       "      <td>12</td>\n",
       "      <td>2226.910</td>\n",
       "      <td>5</td>\n",
       "      <td>5</td>\n",
       "      <td>5</td>\n",
       "      <td>55</td>\n",
       "      <td>champions</td>\n",
       "    </tr>\n",
       "    <tr>\n",
       "      <th>16500.0</th>\n",
       "      <td>5</td>\n",
       "      <td>6</td>\n",
       "      <td>280.575</td>\n",
       "      <td>5</td>\n",
       "      <td>5</td>\n",
       "      <td>2</td>\n",
       "      <td>55</td>\n",
       "      <td>champions</td>\n",
       "    </tr>\n",
       "    <tr>\n",
       "      <th>...</th>\n",
       "      <td>...</td>\n",
       "      <td>...</td>\n",
       "      <td>...</td>\n",
       "      <td>...</td>\n",
       "      <td>...</td>\n",
       "      <td>...</td>\n",
       "      <td>...</td>\n",
       "      <td>...</td>\n",
       "    </tr>\n",
       "    <tr>\n",
       "      <th>13762.0</th>\n",
       "      <td>219</td>\n",
       "      <td>1</td>\n",
       "      <td>306.720</td>\n",
       "      <td>1</td>\n",
       "      <td>1</td>\n",
       "      <td>2</td>\n",
       "      <td>11</td>\n",
       "      <td>hibernating</td>\n",
       "    </tr>\n",
       "    <tr>\n",
       "      <th>13753.0</th>\n",
       "      <td>288</td>\n",
       "      <td>1</td>\n",
       "      <td>741.260</td>\n",
       "      <td>1</td>\n",
       "      <td>1</td>\n",
       "      <td>3</td>\n",
       "      <td>11</td>\n",
       "      <td>hibernating</td>\n",
       "    </tr>\n",
       "    <tr>\n",
       "      <th>13751.0</th>\n",
       "      <td>289</td>\n",
       "      <td>1</td>\n",
       "      <td>296.250</td>\n",
       "      <td>1</td>\n",
       "      <td>1</td>\n",
       "      <td>2</td>\n",
       "      <td>11</td>\n",
       "      <td>hibernating</td>\n",
       "    </tr>\n",
       "    <tr>\n",
       "      <th>13747.0</th>\n",
       "      <td>374</td>\n",
       "      <td>1</td>\n",
       "      <td>79.600</td>\n",
       "      <td>1</td>\n",
       "      <td>1</td>\n",
       "      <td>1</td>\n",
       "      <td>11</td>\n",
       "      <td>hibernating</td>\n",
       "    </tr>\n",
       "    <tr>\n",
       "      <th>12346.0</th>\n",
       "      <td>326</td>\n",
       "      <td>1</td>\n",
       "      <td>263.120</td>\n",
       "      <td>1</td>\n",
       "      <td>1</td>\n",
       "      <td>2</td>\n",
       "      <td>11</td>\n",
       "      <td>hibernating</td>\n",
       "    </tr>\n",
       "  </tbody>\n",
       "</table>\n",
       "<p>4338 rows × 8 columns</p>\n",
       "</div>"
      ],
      "text/plain": [
       "             recency  frequency  monetary recency_score frequency_score  \\\n",
       "Customer ID                                                               \n",
       "17651.0           12         10  3945.000             5               5   \n",
       "16905.0            6          7  3102.430             5               5   \n",
       "15271.0            8         15  2507.070             5               5   \n",
       "14825.0            4         12  2226.910             5               5   \n",
       "16500.0            5          6   280.575             5               5   \n",
       "...              ...        ...       ...           ...             ...   \n",
       "13762.0          219          1   306.720             1               1   \n",
       "13753.0          288          1   741.260             1               1   \n",
       "13751.0          289          1   296.250             1               1   \n",
       "13747.0          374          1    79.600             1               1   \n",
       "12346.0          326          1   263.120             1               1   \n",
       "\n",
       "            monetary_score RFM_SCORE      segment  \n",
       "Customer ID                                        \n",
       "17651.0                  5        55    champions  \n",
       "16905.0                  5        55    champions  \n",
       "15271.0                  5        55    champions  \n",
       "14825.0                  5        55    champions  \n",
       "16500.0                  2        55    champions  \n",
       "...                    ...       ...          ...  \n",
       "13762.0                  2        11  hibernating  \n",
       "13753.0                  3        11  hibernating  \n",
       "13751.0                  2        11  hibernating  \n",
       "13747.0                  1        11  hibernating  \n",
       "12346.0                  2        11  hibernating  \n",
       "\n",
       "[4338 rows x 8 columns]"
      ]
     },
     "execution_count": 20,
     "metadata": {},
     "output_type": "execute_result"
    }
   ],
   "source": [
    "seg_map = {\n",
    "    r'[1-2][1-2]': 'hibernating',\n",
    "    r'[1-2][3-4]': 'at_Risk',\n",
    "    r'[1-2]5': 'cant_loose',\n",
    "    r'3[1-2]': 'about_to_sleep',\n",
    "    r'33': 'need_attention',\n",
    "    r'[3-4][4-5]': 'loyal_customers',\n",
    "    r'41': 'promising',\n",
    "    r'51': 'new_customers',\n",
    "    r'[4-5][2-3]': 'potential_loyalists',\n",
    "    r'5[4-5]': 'champions'\n",
    "}\n",
    "rfm['segment'] = rfm['RFM_SCORE'].replace(seg_map, regex=True)\n",
    "rfm.sort_values(by = \"RFM_SCORE\", ascending = False)"
   ]
  },
  {
   "cell_type": "markdown",
   "id": "097c6d40",
   "metadata": {
    "papermill": {
     "duration": 0.047731,
     "end_time": "2021-09-17T14:30:35.868442",
     "exception": false,
     "start_time": "2021-09-17T14:30:35.820711",
     "status": "completed"
    },
    "tags": []
   },
   "source": [
    "Let's group RFM mean and frequency values according to segments"
   ]
  },
  {
   "cell_type": "code",
   "execution_count": 21,
   "id": "d59fdbd4",
   "metadata": {
    "execution": {
     "iopub.execute_input": "2021-09-17T14:30:35.969319Z",
     "iopub.status.busy": "2021-09-17T14:30:35.968336Z",
     "iopub.status.idle": "2021-09-17T14:30:35.992818Z",
     "shell.execute_reply": "2021-09-17T14:30:35.993341Z"
    },
    "papermill": {
     "duration": 0.076651,
     "end_time": "2021-09-17T14:30:35.993534",
     "exception": false,
     "start_time": "2021-09-17T14:30:35.916883",
     "status": "completed"
    },
    "tags": []
   },
   "outputs": [
    {
     "data": {
      "text/html": [
       "<div>\n",
       "<style scoped>\n",
       "    .dataframe tbody tr th:only-of-type {\n",
       "        vertical-align: middle;\n",
       "    }\n",
       "\n",
       "    .dataframe tbody tr th {\n",
       "        vertical-align: top;\n",
       "    }\n",
       "\n",
       "    .dataframe thead tr th {\n",
       "        text-align: left;\n",
       "    }\n",
       "\n",
       "    .dataframe thead tr:last-of-type th {\n",
       "        text-align: right;\n",
       "    }\n",
       "</style>\n",
       "<table border=\"1\" class=\"dataframe\">\n",
       "  <thead>\n",
       "    <tr>\n",
       "      <th></th>\n",
       "      <th colspan=\"2\" halign=\"left\">recency</th>\n",
       "      <th colspan=\"2\" halign=\"left\">frequency</th>\n",
       "      <th colspan=\"2\" halign=\"left\">monetary</th>\n",
       "    </tr>\n",
       "    <tr>\n",
       "      <th></th>\n",
       "      <th>mean</th>\n",
       "      <th>count</th>\n",
       "      <th>mean</th>\n",
       "      <th>count</th>\n",
       "      <th>mean</th>\n",
       "      <th>count</th>\n",
       "    </tr>\n",
       "    <tr>\n",
       "      <th>segment</th>\n",
       "      <th></th>\n",
       "      <th></th>\n",
       "      <th></th>\n",
       "      <th></th>\n",
       "      <th></th>\n",
       "      <th></th>\n",
       "    </tr>\n",
       "  </thead>\n",
       "  <tbody>\n",
       "    <tr>\n",
       "      <th>about_to_sleep</th>\n",
       "      <td>53.312500</td>\n",
       "      <td>352</td>\n",
       "      <td>1.161932</td>\n",
       "      <td>352</td>\n",
       "      <td>469.335852</td>\n",
       "      <td>352</td>\n",
       "    </tr>\n",
       "    <tr>\n",
       "      <th>at_Risk</th>\n",
       "      <td>153.785835</td>\n",
       "      <td>593</td>\n",
       "      <td>2.878583</td>\n",
       "      <td>593</td>\n",
       "      <td>935.393071</td>\n",
       "      <td>593</td>\n",
       "    </tr>\n",
       "    <tr>\n",
       "      <th>cant_loose</th>\n",
       "      <td>132.968254</td>\n",
       "      <td>63</td>\n",
       "      <td>8.380952</td>\n",
       "      <td>63</td>\n",
       "      <td>2633.721587</td>\n",
       "      <td>63</td>\n",
       "    </tr>\n",
       "    <tr>\n",
       "      <th>champions</th>\n",
       "      <td>6.361769</td>\n",
       "      <td>633</td>\n",
       "      <td>12.417062</td>\n",
       "      <td>633</td>\n",
       "      <td>6417.597520</td>\n",
       "      <td>633</td>\n",
       "    </tr>\n",
       "    <tr>\n",
       "      <th>hibernating</th>\n",
       "      <td>217.605042</td>\n",
       "      <td>1071</td>\n",
       "      <td>1.101774</td>\n",
       "      <td>1071</td>\n",
       "      <td>398.004507</td>\n",
       "      <td>1071</td>\n",
       "    </tr>\n",
       "    <tr>\n",
       "      <th>loyal_customers</th>\n",
       "      <td>33.608059</td>\n",
       "      <td>819</td>\n",
       "      <td>6.479853</td>\n",
       "      <td>819</td>\n",
       "      <td>2740.820807</td>\n",
       "      <td>819</td>\n",
       "    </tr>\n",
       "    <tr>\n",
       "      <th>need_attention</th>\n",
       "      <td>52.427807</td>\n",
       "      <td>187</td>\n",
       "      <td>2.326203</td>\n",
       "      <td>187</td>\n",
       "      <td>848.090775</td>\n",
       "      <td>187</td>\n",
       "    </tr>\n",
       "    <tr>\n",
       "      <th>new_customers</th>\n",
       "      <td>7.428571</td>\n",
       "      <td>42</td>\n",
       "      <td>1.000000</td>\n",
       "      <td>42</td>\n",
       "      <td>312.703571</td>\n",
       "      <td>42</td>\n",
       "    </tr>\n",
       "    <tr>\n",
       "      <th>potential_loyalists</th>\n",
       "      <td>17.398760</td>\n",
       "      <td>484</td>\n",
       "      <td>2.010331</td>\n",
       "      <td>484</td>\n",
       "      <td>673.419948</td>\n",
       "      <td>484</td>\n",
       "    </tr>\n",
       "    <tr>\n",
       "      <th>promising</th>\n",
       "      <td>23.510638</td>\n",
       "      <td>94</td>\n",
       "      <td>1.000000</td>\n",
       "      <td>94</td>\n",
       "      <td>286.380372</td>\n",
       "      <td>94</td>\n",
       "    </tr>\n",
       "  </tbody>\n",
       "</table>\n",
       "</div>"
      ],
      "text/plain": [
       "                        recency        frequency           monetary      \n",
       "                           mean count       mean count         mean count\n",
       "segment                                                                  \n",
       "about_to_sleep        53.312500   352   1.161932   352   469.335852   352\n",
       "at_Risk              153.785835   593   2.878583   593   935.393071   593\n",
       "cant_loose           132.968254    63   8.380952    63  2633.721587    63\n",
       "champions              6.361769   633  12.417062   633  6417.597520   633\n",
       "hibernating          217.605042  1071   1.101774  1071   398.004507  1071\n",
       "loyal_customers       33.608059   819   6.479853   819  2740.820807   819\n",
       "need_attention        52.427807   187   2.326203   187   848.090775   187\n",
       "new_customers          7.428571    42   1.000000    42   312.703571    42\n",
       "potential_loyalists   17.398760   484   2.010331   484   673.419948   484\n",
       "promising             23.510638    94   1.000000    94   286.380372    94"
      ]
     },
     "execution_count": 21,
     "metadata": {},
     "output_type": "execute_result"
    }
   ],
   "source": [
    "rfm[[\"segment\", \"recency\", \"frequency\", \"monetary\"]].groupby(\"segment\").agg([\"mean\", \"count\"])"
   ]
  },
  {
   "cell_type": "markdown",
   "id": "817dcf1e",
   "metadata": {
    "papermill": {
     "duration": 0.049633,
     "end_time": "2021-09-17T14:30:36.093482",
     "exception": false,
     "start_time": "2021-09-17T14:30:36.043849",
     "status": "completed"
    },
    "tags": []
   },
   "source": [
    "<a id = \"16\"></a><br>\n",
    "# Visualization of RFM Segments"
   ]
  },
  {
   "cell_type": "code",
   "execution_count": 22,
   "id": "b2de0656",
   "metadata": {
    "execution": {
     "iopub.execute_input": "2021-09-17T14:30:36.236756Z",
     "iopub.status.busy": "2021-09-17T14:30:36.225203Z",
     "iopub.status.idle": "2021-09-17T14:30:36.458460Z",
     "shell.execute_reply": "2021-09-17T14:30:36.457743Z"
    },
    "papermill": {
     "duration": 0.315531,
     "end_time": "2021-09-17T14:30:36.458616",
     "exception": false,
     "start_time": "2021-09-17T14:30:36.143085",
     "status": "completed"
    },
    "tags": []
   },
   "outputs": [
    {
     "data": {
      "image/png": "[encoded data removed]",
      "text/plain": [
       "<Figure size 720x504 with 1 Axes>"
      ]
     },
     "metadata": {
      "needs_background": "light"
     },
     "output_type": "display_data"
    }
   ],
   "source": [
    "sgm= rfm[\"segment\"].value_counts()\n",
    "plt.figure(figsize=(10,7))\n",
    "sns.barplot(x=sgm.index,y=sgm.values)\n",
    "plt.xticks(rotation=45)\n",
    "plt.title('Customer Segments',color = 'blue',fontsize=15)\n",
    "plt.show()"
   ]
  },
  {
   "cell_type": "markdown",
   "id": "d68fa5e3",
   "metadata": {
    "papermill": {
     "duration": 0.050007,
     "end_time": "2021-09-17T14:30:36.559070",
     "exception": false,
     "start_time": "2021-09-17T14:30:36.509063",
     "status": "completed"
    },
    "tags": []
   },
   "source": []
  },
  {
   "cell_type": "code",
   "execution_count": 23,
   "id": "cf784816",
   "metadata": {
    "execution": {
     "iopub.execute_input": "2021-09-17T14:30:36.665956Z",
     "iopub.status.busy": "2021-09-17T14:30:36.664898Z",
     "iopub.status.idle": "2021-09-17T14:30:36.670980Z",
     "shell.execute_reply": "2021-09-17T14:30:36.671433Z"
    },
    "papermill": {
     "duration": 0.062366,
     "end_time": "2021-09-17T14:30:36.671597",
     "exception": false,
     "start_time": "2021-09-17T14:30:36.609231",
     "status": "completed"
    },
    "tags": []
   },
   "outputs": [],
   "source": [
    "df_treemap = rfm.groupby('segment').agg('count').reset_index()"
   ]
  },
  {
   "cell_type": "code",
   "execution_count": 24,
   "id": "89d1b4f6",
   "metadata": {
    "execution": {
     "iopub.execute_input": "2021-09-17T14:30:36.784251Z",
     "iopub.status.busy": "2021-09-17T14:30:36.783578Z",
     "iopub.status.idle": "2021-09-17T14:30:36.786172Z",
     "shell.execute_reply": "2021-09-17T14:30:36.786691Z"
    },
    "papermill": {
     "duration": 0.064781,
     "end_time": "2021-09-17T14:30:36.786853",
     "exception": false,
     "start_time": "2021-09-17T14:30:36.722072",
     "status": "completed"
    },
    "tags": []
   },
   "outputs": [
    {
     "data": {
      "text/html": [
       "<div>\n",
       "<style scoped>\n",
       "    .dataframe tbody tr th:only-of-type {\n",
       "        vertical-align: middle;\n",
       "    }\n",
       "\n",
       "    .dataframe tbody tr th {\n",
       "        vertical-align: top;\n",
       "    }\n",
       "\n",
       "    .dataframe thead th {\n",
       "        text-align: right;\n",
       "    }\n",
       "</style>\n",
       "<table border=\"1\" class=\"dataframe\">\n",
       "  <thead>\n",
       "    <tr style=\"text-align: right;\">\n",
       "      <th></th>\n",
       "      <th>segment</th>\n",
       "      <th>recency</th>\n",
       "      <th>frequency</th>\n",
       "      <th>monetary</th>\n",
       "      <th>recency_score</th>\n",
       "      <th>frequency_score</th>\n",
       "      <th>monetary_score</th>\n",
       "      <th>RFM_SCORE</th>\n",
       "    </tr>\n",
       "  </thead>\n",
       "  <tbody>\n",
       "    <tr>\n",
       "      <th>0</th>\n",
       "      <td>about_to_sleep</td>\n",
       "      <td>352</td>\n",
       "      <td>352</td>\n",
       "      <td>352</td>\n",
       "      <td>352</td>\n",
       "      <td>352</td>\n",
       "      <td>352</td>\n",
       "      <td>352</td>\n",
       "    </tr>\n",
       "    <tr>\n",
       "      <th>1</th>\n",
       "      <td>at_Risk</td>\n",
       "      <td>593</td>\n",
       "      <td>593</td>\n",
       "      <td>593</td>\n",
       "      <td>593</td>\n",
       "      <td>593</td>\n",
       "      <td>593</td>\n",
       "      <td>593</td>\n",
       "    </tr>\n",
       "    <tr>\n",
       "      <th>2</th>\n",
       "      <td>cant_loose</td>\n",
       "      <td>63</td>\n",
       "      <td>63</td>\n",
       "      <td>63</td>\n",
       "      <td>63</td>\n",
       "      <td>63</td>\n",
       "      <td>63</td>\n",
       "      <td>63</td>\n",
       "    </tr>\n",
       "    <tr>\n",
       "      <th>3</th>\n",
       "      <td>champions</td>\n",
       "      <td>633</td>\n",
       "      <td>633</td>\n",
       "      <td>633</td>\n",
       "      <td>633</td>\n",
       "      <td>633</td>\n",
       "      <td>633</td>\n",
       "      <td>633</td>\n",
       "    </tr>\n",
       "    <tr>\n",
       "      <th>4</th>\n",
       "      <td>hibernating</td>\n",
       "      <td>1071</td>\n",
       "      <td>1071</td>\n",
       "      <td>1071</td>\n",
       "      <td>1071</td>\n",
       "      <td>1071</td>\n",
       "      <td>1071</td>\n",
       "      <td>1071</td>\n",
       "    </tr>\n",
       "  </tbody>\n",
       "</table>\n",
       "</div>"
      ],
      "text/plain": [
       "          segment  recency  frequency  monetary  recency_score  \\\n",
       "0  about_to_sleep      352        352       352            352   \n",
       "1         at_Risk      593        593       593            593   \n",
       "2      cant_loose       63         63        63             63   \n",
       "3       champions      633        633       633            633   \n",
       "4     hibernating     1071       1071      1071           1071   \n",
       "\n",
       "   frequency_score  monetary_score  RFM_SCORE  \n",
       "0              352             352        352  \n",
       "1              593             593        593  \n",
       "2               63              63         63  \n",
       "3              633             633        633  \n",
       "4             1071            1071       1071  "
      ]
     },
     "execution_count": 24,
     "metadata": {},
     "output_type": "execute_result"
    }
   ],
   "source": [
    "df_treemap.head()"
   ]
  },
  {
   "cell_type": "code",
   "execution_count": 25,
   "id": "fb2d3033",
   "metadata": {
    "execution": {
     "iopub.execute_input": "2021-09-17T14:30:36.892915Z",
     "iopub.status.busy": "2021-09-17T14:30:36.892284Z",
     "iopub.status.idle": "2021-09-17T14:30:37.061285Z",
     "shell.execute_reply": "2021-09-17T14:30:37.061802Z"
    },
    "papermill": {
     "duration": 0.223734,
     "end_time": "2021-09-17T14:30:37.061968",
     "exception": false,
     "start_time": "2021-09-17T14:30:36.838234",
     "status": "completed"
    },
    "tags": []
   },
   "outputs": [
    {
     "data": {
      "image/png": "[encoded data removed]",
      "text/plain": [
       "<Figure size 720x720 with 1 Axes>"
      ]
     },
     "metadata": {
      "needs_background": "light"
     },
     "output_type": "display_data"
    }
   ],
   "source": [
    "fig, ax = plt.subplots(1, figsize = (10,10))\n",
    "\n",
    "squarify.plot(sizes=df_treemap['RFM_SCORE'], \n",
    "              label=df_treemap['segment'], \n",
    "              alpha=.8,\n",
    "              color=['tab:red', 'tab:purple', 'tab:brown', 'tab:pink', 'tab:gray']\n",
    "             )\n",
    "plt.axis('off')\n",
    "#plt.savefig('treemap_deneme.png')\n",
    "plt.show()\n"
   ]
  },
  {
   "cell_type": "markdown",
   "id": "888d3b54",
   "metadata": {
    "papermill": {
     "duration": 0.052147,
     "end_time": "2021-09-17T14:30:37.166202",
     "exception": false,
     "start_time": "2021-09-17T14:30:37.114055",
     "status": "completed"
    },
    "tags": []
   },
   "source": [
    "<a id = \"17\"></a><br>\n",
    "# References\n",
    "* https://github.com/mvahit\n",
    "* https://www.veribilimiokulu.com/\n",
    "* https://www.linkedin.com/in/vahitkeskin/\n",
    "* https://www.kaggle.com/haticeebraralc/crm-analytics\n",
    "* https://github.com/hebraralici\n",
    "* https://en.wikipedia.org/wiki/Customer_lifetime_value\n",
    "* https://en.wikipedia.org/wiki/RFM_(market_research)"
   ]
  }
 ],
 "metadata": {
  "kernelspec": {
   "display_name": "Python 3",
   "language": "python",
   "name": "python3"
  },
  "language_info": {
   "codemirror_mode": {
    "name": "ipython",
    "version": 3
   },
   "file_extension": ".py",
   "mimetype": "text/x-python",
   "name": "python",
   "nbconvert_exporter": "python",
   "pygments_lexer": "ipython3",
   "version": "3.7.10"
  },
  "papermill": {
   "default_parameters": {},
   "duration": 115.65074,
   "end_time": "2021-09-17T14:30:37.927614",
   "environment_variables": {},
   "exception": null,
   "input_path": "__notebook__.ipynb",
   "output_path": "__notebook__.ipynb",
   "parameters": {},
   "start_time": "2021-09-17T14:28:42.276874",
   "version": "2.3.3"
  }
 },
 "nbformat": 4,
 "nbformat_minor": 5
}
